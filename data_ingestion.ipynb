{
 "cells": [
  {
   "cell_type": "code",
   "execution_count": 0,
   "metadata": {
    "application/vnd.databricks.v1+cell": {
     "cellMetadata": {
      "byteLimit": 2048000,
      "rowLimit": 10000
     },
     "inputWidgets": {},
     "nuid": "4a767f5b-0a2b-4027-bef4-a5473b30728f",
     "showTitle": false,
     "tableResultSettingsMap": {},
     "title": ""
    }
   },
   "outputs": [],
   "source": [
    "from pyspark.sql import SparkSession\n",
    "from pyspark.sql.functions import current_timestamp, unix_timestamp, lit\n",
    "import time\n",
    "\n",
    "# Initialize Spark session\n",
    "spark = SparkSession.builder \\\n",
    "    .appName(\"PipelineAuditLogger\") \\\n",
    "    .getOrCreate()\n",
    "\n",
    "# Step 1: Capture start time\n",
    "start_time = time.time()\n",
    "\n",
    "# Your actual pipeline logic here\n",
    "# Example: simple transformation\n",
    "data = [(\"Alice\", 25), (\"Bob\", 30)]\n",
    "columns = [\"name\", \"age\"]\n",
    "df = spark.createDataFrame(data, columns)\n",
    "\n",
    "# Just some processing for simulation\n",
    "df_filtered = df.filter(df.age > 20)\n",
    "df_filtered.show()\n",
    "\n",
    "# Step 2: Capture end time\n",
    "end_time = time.time()\n",
    "\n",
    "# Step 3: Compute duration\n",
    "duration_minutes = round((end_time - start_time) / 60, 2)\n",
    "\n",
    "# Step 4: Create audit metadata row\n",
    "from datetime import datetime\n",
    "\n",
    "pipeline_name = \"sample_pipeline\"\n",
    "start_dt = datetime.fromtimestamp(start_time).strftime(\"%Y-%m-%d %H:%M:%S\")\n",
    "end_dt = datetime.fromtimestamp(end_time).strftime(\"%Y-%m-%d %H:%M:%S\")\n",
    "status = \"Success\"  # or \"Failed\" based on try/except logic\n",
    "\n",
    "# Create a single-row DataFrame\n",
    "audit_row = [(pipeline_name, start_dt, end_dt, duration_minutes, status)]\n",
    "columns = [\"pipeline_name\", \"start_time\", \"end_time\", \"duration_minutes\", \"status\"]\n",
    "audit_df = spark.createDataFrame(audit_row, columns).withColumn(\"ingestion_time\", current_timestamp())\n",
    "\n",
    "# Show the audit log\n",
    "audit_df.show(truncate=False)\n"
   ]
  }
 ],
 "metadata": {
  "application/vnd.databricks.v1+notebook": {
   "computePreferences": null,
   "dashboards": [],
   "environmentMetadata": {
    "base_environment": "",
    "environment_version": "2"
   },
   "inputWidgetPreferences": null,
   "language": "python",
   "notebookMetadata": {
    "pythonIndentUnit": 4
   },
   "notebookName": "data_ingestion",
   "widgets": {}
  },
  "language_info": {
   "name": "python"
  }
 },
 "nbformat": 4,
 "nbformat_minor": 0
}
