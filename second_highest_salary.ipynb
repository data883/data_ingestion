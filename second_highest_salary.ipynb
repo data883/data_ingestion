{
 "cells": [
  {
   "cell_type": "code",
   "execution_count": 0,
   "metadata": {
    "application/vnd.databricks.v1+cell": {
     "cellMetadata": {
      "byteLimit": 2048000,
      "rowLimit": 10000
     },
     "inputWidgets": {},
     "nuid": "a4c71f0c-2eaf-49f8-a54d-2a46f6a6aa8a",
     "showTitle": false,
     "tableResultSettingsMap": {},
     "title": ""
    }
   },
   "outputs": [],
   "source": [
    "from pyspark.sql import SparkSession\n",
    "from pyspark.sql.functions import col, dense_rank\n",
    "from pyspark.sql.window import Window\n",
    "\n",
    "# Start Spark session\n",
    "spark = SparkSession.builder \\\n",
    "    .appName(\"SecondHighestSalary\") \\\n",
    "    .getOrCreate()\n",
    "\n",
    "# Sample data\n",
    "data = [\n",
    "    (\"Alice\", 1000),\n",
    "    (\"Bob\", 2000),\n",
    "    (\"Charlie\", 3000),\n",
    "    (\"David\", 4000),\n",
    "    (\"Eve\", 3000)\n",
    "]\n",
    "\n",
    "# Create DataFrame\n",
    "df = spark.createDataFrame(data, [\"name\", \"salary\"])\n",
    "\n",
    "# Define window spec\n",
    "window_spec = Window.orderBy(col(\"salary\").desc())\n",
    "\n",
    "# Add dense_rank to get unique ranks\n",
    "ranked_df = df.withColumn(\"rank\", dense_rank().over(window_spec))\n",
    "\n",
    "# Filter for second highest salary\n",
    "second_highest_df = ranked_df.filter(col(\"rank\") == 2)\n",
    "\n",
    "# Show result\n",
    "second_highest_df.show()\n"
   ]
  }
 ],
 "metadata": {
  "application/vnd.databricks.v1+notebook": {
   "computePreferences": null,
   "dashboards": [],
   "environmentMetadata": {
    "base_environment": "",
    "environment_version": "2"
   },
   "inputWidgetPreferences": null,
   "language": "python",
   "notebookMetadata": {
    "pythonIndentUnit": 4
   },
   "notebookName": "second_highest_salary",
   "widgets": {}
  },
  "language_info": {
   "name": "python"
  }
 },
 "nbformat": 4,
 "nbformat_minor": 0
}
